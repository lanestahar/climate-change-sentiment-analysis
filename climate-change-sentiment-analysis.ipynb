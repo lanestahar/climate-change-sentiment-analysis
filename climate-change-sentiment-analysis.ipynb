{
 "cells": [
  {
   "cell_type": "markdown",
   "id": "63349dfc-2f3d-441f-a111-741d1a638eb5",
   "metadata": {},
   "source": [
    "### Sentiment Analysis About Climate Change\n",
    "\n",
    "This document is an analysis of a twitter dataset about general opinions on human-made climate change aquired from kaggle.com\n",
    "\n",
    "It is consistent of several visualizations of data as bars, piecharts and data frames.\n",
    "\n",
    "The original of the csv file can be found at https://www.kaggle.com/datasets/edqian/twitter-climate-change-sentiment-dataset"
   ]
  },
  {
   "cell_type": "code",
   "execution_count": 1,
   "id": "175bc56a-d019-44a6-8ec0-c517bf1e2465",
   "metadata": {},
   "outputs": [],
   "source": [
    "import numpy as np \n",
    "from matplotlib import pyplot as plt\n",
    "import pandas as pd"
   ]
  },
  {
   "cell_type": "code",
   "execution_count": 2,
   "id": "db090e9b-e3dd-4f54-a8a5-264378d322ff",
   "metadata": {},
   "outputs": [],
   "source": [
    "twitter_data = pd.read_csv('twitter_sentiment_data.csv')"
   ]
  },
  {
   "cell_type": "markdown",
   "id": "131f7e02-5d1c-478e-91fe-929c6eb70360",
   "metadata": {},
   "source": [
    "Controlling the csv file to be sure about columns"
   ]
  },
  {
   "cell_type": "code",
   "execution_count": 3,
   "id": "7d8ce5fa-47ad-4f62-948d-a5782bd5a735",
   "metadata": {},
   "outputs": [
    {
     "data": {
      "text/html": [
       "<div>\n",
       "<style scoped>\n",
       "    .dataframe tbody tr th:only-of-type {\n",
       "        vertical-align: middle;\n",
       "    }\n",
       "\n",
       "    .dataframe tbody tr th {\n",
       "        vertical-align: top;\n",
       "    }\n",
       "\n",
       "    .dataframe thead th {\n",
       "        text-align: right;\n",
       "    }\n",
       "</style>\n",
       "<table border=\"1\" class=\"dataframe\">\n",
       "  <thead>\n",
       "    <tr style=\"text-align: right;\">\n",
       "      <th></th>\n",
       "      <th>sentiment</th>\n",
       "      <th>message</th>\n",
       "      <th>tweetid</th>\n",
       "    </tr>\n",
       "  </thead>\n",
       "  <tbody>\n",
       "    <tr>\n",
       "      <th>0</th>\n",
       "      <td>-1</td>\n",
       "      <td>@tiniebeany climate change is an interesting h...</td>\n",
       "      <td>792927353886371840</td>\n",
       "    </tr>\n",
       "    <tr>\n",
       "      <th>1</th>\n",
       "      <td>1</td>\n",
       "      <td>RT @NatGeoChannel: Watch #BeforeTheFlood right...</td>\n",
       "      <td>793124211518832641</td>\n",
       "    </tr>\n",
       "    <tr>\n",
       "      <th>2</th>\n",
       "      <td>1</td>\n",
       "      <td>Fabulous! Leonardo #DiCaprio's film on #climat...</td>\n",
       "      <td>793124402388832256</td>\n",
       "    </tr>\n",
       "    <tr>\n",
       "      <th>3</th>\n",
       "      <td>1</td>\n",
       "      <td>RT @Mick_Fanning: Just watched this amazing do...</td>\n",
       "      <td>793124635873275904</td>\n",
       "    </tr>\n",
       "    <tr>\n",
       "      <th>4</th>\n",
       "      <td>2</td>\n",
       "      <td>RT @cnalive: Pranita Biswasi, a Lutheran from ...</td>\n",
       "      <td>793125156185137153</td>\n",
       "    </tr>\n",
       "  </tbody>\n",
       "</table>\n",
       "</div>"
      ],
      "text/plain": [
       "   sentiment                                            message  \\\n",
       "0         -1  @tiniebeany climate change is an interesting h...   \n",
       "1          1  RT @NatGeoChannel: Watch #BeforeTheFlood right...   \n",
       "2          1  Fabulous! Leonardo #DiCaprio's film on #climat...   \n",
       "3          1  RT @Mick_Fanning: Just watched this amazing do...   \n",
       "4          2  RT @cnalive: Pranita Biswasi, a Lutheran from ...   \n",
       "\n",
       "              tweetid  \n",
       "0  792927353886371840  \n",
       "1  793124211518832641  \n",
       "2  793124402388832256  \n",
       "3  793124635873275904  \n",
       "4  793125156185137153  "
      ]
     },
     "execution_count": 3,
     "metadata": {},
     "output_type": "execute_result"
    }
   ],
   "source": [
    "twitter_data.head()"
   ]
  },
  {
   "cell_type": "markdown",
   "id": "6812fff5-2c40-474d-a434-4898e40d5ed3",
   "metadata": {},
   "source": [
    "In the sentiment column, each integer represent an opinion about the subject.\n",
    "\n",
    "* `-1`: Negative\n",
    "* `0`: Neutral\n",
    "* `1`: Positive\n",
    "* `2`: News (Content that links to factual news)"
   ]
  },
  {
   "cell_type": "markdown",
   "id": "9a33acf6-5a77-4906-85b2-b90ee69b3c85",
   "metadata": {},
   "source": [
    "#### Data Preperation"
   ]
  },
  {
   "cell_type": "code",
   "execution_count": 4,
   "id": "8ca4d261-4995-4741-b57c-5c21c8a6e07b",
   "metadata": {},
   "outputs": [],
   "source": [
    "def column_analyzer(dataset, *args):\n",
    "    \"\"\"This function gets a pandas dataframe and parse it's desired columns into dictionaries\"\"\"\n",
    "    memo = {}\n",
    "    \n",
    "    for column_name in args:    \n",
    "        for data in dataset[column_name]:        \n",
    "            if data in memo.keys():\n",
    "                memo[data] += 1\n",
    "            else:\n",
    "                memo[data] = 1\n",
    "    return memo"
   ]
  },
  {
   "cell_type": "markdown",
   "id": "9abe4ca7-675a-4914-a0eb-f8baf8144ef1",
   "metadata": {},
   "source": [
    "Above function groups the classified data in their own classes and assigns them into key-value pairs as seen below"
   ]
  },
  {
   "cell_type": "code",
   "execution_count": 5,
   "id": "3f9d71b2-a4f0-4f52-9030-d0ac3717830e",
   "metadata": {},
   "outputs": [],
   "source": [
    "sentiments = column_analyzer(twitter_data, \"sentiment\")"
   ]
  },
  {
   "cell_type": "markdown",
   "id": "06619754-8879-4194-a9e1-9b979629422a",
   "metadata": {},
   "source": [
    "In the cell below, I assign our dictionary to a numpy array to wrok with matplotlib and pandas more flexibly"
   ]
  },
  {
   "cell_type": "code",
   "execution_count": 6,
   "id": "5ea522a9-5f15-400c-8007-e2632054e4dc",
   "metadata": {},
   "outputs": [
    {
     "data": {
      "text/plain": [
       "array([ 3990.,  7715., 22962.])"
      ]
     },
     "execution_count": 6,
     "metadata": {},
     "output_type": "execute_result"
    }
   ],
   "source": [
    "sentiment_array = np.array([])\n",
    "\n",
    "\n",
    "for sent in sentiments:\n",
    "    sentiment_array = np.append(sentiment_array, 0)\n",
    "    \n",
    "for sent in sentiments:\n",
    "    sentiment_array[sent+1] = sentiments[sent]\n",
    "    \n",
    "opinion_array = sentiment_array[0:3]\n",
    "    \n",
    "opinion_array"
   ]
  },
  {
   "cell_type": "markdown",
   "id": "35463db5-fce2-49c7-9408-0fd6ea68d651",
   "metadata": {},
   "source": [
    "#### Data Visualization"
   ]
  },
  {
   "cell_type": "markdown",
   "id": "65ea691f-7391-404b-a1e7-99eb55bc09a5",
   "metadata": {},
   "source": [
    "First images is a bar chart which gives us to actual number of tweets, in a classified manner."
   ]
  },
  {
   "cell_type": "code",
   "execution_count": 7,
   "id": "131e70b1-ba2b-4192-a669-1b36cf333533",
   "metadata": {},
   "outputs": [
    {
     "data": {
      "image/png": "[encoded data removed]",
      "text/plain": [
       "<Figure size 936x288 with 2 Axes>"
      ]
     },
     "metadata": {
      "needs_background": "light"
     },
     "output_type": "display_data"
    }
   ],
   "source": [
    "four_labels = [\"Negative\", \"Neutral\", \"Positive\", \"News\"]\n",
    "four_colors = [\"Red\", \"Yellow\", \"Green\", \"Blue\"]\n",
    "\n",
    "three_labels = [\"Negative\", \"Neutral\", \"Positive\"]\n",
    "three_colors = [\"Red\", \"Yellow\", \"Green\"]\n",
    "\n",
    "fig, (ax0, ax1) = plt.subplots(1,2)\n",
    "\n",
    "fig.set_figwidth(13)\n",
    "\n",
    "ax0.bar(four_labels, sentiment_array, color = four_colors)\n",
    "ax0.set_title(\"All Tweets\")\n",
    "\n",
    "ax1.bar(three_labels, opinion_array, color = three_colors)\n",
    "ax1.set_title(\"Nonmaterial Tweets\")\n",
    "\n",
    "plt.suptitle(\"Tweet Counts in Bar Charts\")\n",
    "plt.subplots_adjust(wspace=0.4)\n",
    "plt.show()"
   ]
  },
  {
   "cell_type": "markdown",
   "id": "af42f33c-1478-4fb1-b2fc-9262f131c8a7",
   "metadata": {},
   "source": [
    "Second images is a pie chart which gives us an understanding about the distribution of our data in percentages."
   ]
  },
  {
   "cell_type": "code",
   "execution_count": 8,
   "id": "98e48932-15d7-4c3c-b714-4e20a01a6546",
   "metadata": {},
   "outputs": [
    {
     "data": {
      "image/png": "[encoded data removed]",
      "text/plain": [
       "<Figure size 936x288 with 2 Axes>"
      ]
     },
     "metadata": {},
     "output_type": "display_data"
    }
   ],
   "source": [
    "fig1, (ax2, ax3) = plt.subplots(1,2)\n",
    "\n",
    "fig1.set_figwidth(13)\n",
    "\n",
    "ax2.pie(sentiment_array,\n",
    "       labels = four_labels,\n",
    "       colors = four_colors,\n",
    "       shadow = True,\n",
    "       autopct='%1.1f%%')\n",
    "ax2.legend()\n",
    "ax2.set_title(\"All Tweets\")\n",
    "\n",
    "ax3.pie(opinion_array,\n",
    "       labels = three_labels,\n",
    "       colors = three_colors,\n",
    "       shadow = True,\n",
    "       autopct='%1.1f%%')\n",
    "ax3.legend()\n",
    "ax3.set_title(\"Nonmaterial Tweets\")\n",
    "\n",
    "plt.suptitle(\"Sentiment Analysis About Climate Change - Percentages\")\n",
    "plt.show()"
   ]
  },
  {
   "cell_type": "markdown",
   "id": "4c0e4a3f-7714-4731-815a-eda912c57310",
   "metadata": {},
   "source": [
    "Third images is a table (a pandas dataframe) which gives us numbers in a written manner."
   ]
  },
  {
   "cell_type": "code",
   "execution_count": 9,
   "id": "3ee2105e-1bfd-4d1d-a3a4-d660cf6fe300",
   "metadata": {},
   "outputs": [],
   "source": [
    "all_tweets_df = pd.DataFrame(sentiment_array, index = four_labels, columns = [\"Tweets\"])\n",
    "all_tweets_df = all_tweets_df.transpose()\n",
    "\n",
    "opinions_df = pd.DataFrame(opinion_array, index = three_labels, columns = [\"Tweets\"])\n",
    "opinions_df = opinions_df.transpose()"
   ]
  },
  {
   "cell_type": "code",
   "execution_count": 10,
   "id": "606eb625-2733-49a5-ac38-6d34c6f383a8",
   "metadata": {},
   "outputs": [
    {
     "data": {
      "text/html": [
       "<div>\n",
       "<style scoped>\n",
       "    .dataframe tbody tr th:only-of-type {\n",
       "        vertical-align: middle;\n",
       "    }\n",
       "\n",
       "    .dataframe tbody tr th {\n",
       "        vertical-align: top;\n",
       "    }\n",
       "\n",
       "    .dataframe thead th {\n",
       "        text-align: right;\n",
       "    }\n",
       "</style>\n",
       "<table border=\"1\" class=\"dataframe\">\n",
       "  <thead>\n",
       "    <tr style=\"text-align: right;\">\n",
       "      <th></th>\n",
       "      <th>Negative</th>\n",
       "      <th>Neutral</th>\n",
       "      <th>Positive</th>\n",
       "      <th>News</th>\n",
       "    </tr>\n",
       "  </thead>\n",
       "  <tbody>\n",
       "    <tr>\n",
       "      <th>Tweets</th>\n",
       "      <td>3990.0</td>\n",
       "      <td>7715.0</td>\n",
       "      <td>22962.0</td>\n",
       "      <td>9276.0</td>\n",
       "    </tr>\n",
       "  </tbody>\n",
       "</table>\n",
       "</div>"
      ],
      "text/plain": [
       "        Negative  Neutral  Positive    News\n",
       "Tweets    3990.0   7715.0   22962.0  9276.0"
      ]
     },
     "execution_count": 10,
     "metadata": {},
     "output_type": "execute_result"
    }
   ],
   "source": [
    "all_tweets_df"
   ]
  },
  {
   "cell_type": "code",
   "execution_count": 11,
   "id": "0bc6540e-d7c6-4357-9610-4a1ea6eaf1ec",
   "metadata": {},
   "outputs": [
    {
     "data": {
      "text/html": [
       "<div>\n",
       "<style scoped>\n",
       "    .dataframe tbody tr th:only-of-type {\n",
       "        vertical-align: middle;\n",
       "    }\n",
       "\n",
       "    .dataframe tbody tr th {\n",
       "        vertical-align: top;\n",
       "    }\n",
       "\n",
       "    .dataframe thead th {\n",
       "        text-align: right;\n",
       "    }\n",
       "</style>\n",
       "<table border=\"1\" class=\"dataframe\">\n",
       "  <thead>\n",
       "    <tr style=\"text-align: right;\">\n",
       "      <th></th>\n",
       "      <th>Negative</th>\n",
       "      <th>Neutral</th>\n",
       "      <th>Positive</th>\n",
       "    </tr>\n",
       "  </thead>\n",
       "  <tbody>\n",
       "    <tr>\n",
       "      <th>Tweets</th>\n",
       "      <td>3990.0</td>\n",
       "      <td>7715.0</td>\n",
       "      <td>22962.0</td>\n",
       "    </tr>\n",
       "  </tbody>\n",
       "</table>\n",
       "</div>"
      ],
      "text/plain": [
       "        Negative  Neutral  Positive\n",
       "Tweets    3990.0   7715.0   22962.0"
      ]
     },
     "execution_count": 11,
     "metadata": {},
     "output_type": "execute_result"
    }
   ],
   "source": [
    "opinions_df"
   ]
  },
  {
   "cell_type": "markdown",
   "id": "c3dff2f0-8daa-42f8-8bc5-69bc08c71530",
   "metadata": {},
   "source": [
    "#### Conclusion"
   ]
  },
  {
   "cell_type": "markdown",
   "id": "e4ef3f4b-ae94-47d2-a031-dbee81f71729",
   "metadata": {},
   "source": [
    "According to this analysis, when we cut out the factual news, we see that a promising 66.2% of the Twitter users believe the human-made climate change is real. And we have only an 11.5% of users who don't believe the climate change, or at least a human-made climate change. This data can be used while deciding commercial strategies for raising awareness about human-made climate change."
   ]
  }
 ],
 "metadata": {
  "kernelspec": {
   "display_name": "Python 3 (ipykernel)",
   "language": "python",
   "name": "python3"
  },
  "language_info": {
   "codemirror_mode": {
    "name": "ipython",
    "version": 3
   },
   "file_extension": ".py",
   "mimetype": "text/x-python",
   "name": "python",
   "nbconvert_exporter": "python",
   "pygments_lexer": "ipython3",
   "version": "3.9.12"
  }
 },
 "nbformat": 4,
 "nbformat_minor": 5
}
